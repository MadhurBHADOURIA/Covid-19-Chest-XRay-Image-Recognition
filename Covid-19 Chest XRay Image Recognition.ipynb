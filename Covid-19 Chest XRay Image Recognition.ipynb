{
 "cells": [
  {
   "cell_type": "code",
   "execution_count": 1,
   "id": "12dfbbf3",
   "metadata": {},
   "outputs": [],
   "source": [
    "import os\n",
    "import numpy as np\n",
    "import pandas as pd\n",
    "import tensorflow as tf\n",
    "from tensorflow.keras.preprocessing.image import ImageDataGenerator\n",
    "from tensorflow.keras.models import Sequential\n",
    "from tensorflow.keras.layers import Conv2D, MaxPooling2D, Dropout, Flatten, Dense"
   ]
  },
  {
   "cell_type": "code",
   "execution_count": 2,
   "id": "945eb51e",
   "metadata": {},
   "outputs": [],
   "source": [
    "train_path = 'C:/Users/HP/Desktop/dry bean/Covid19-dataset/test'\n",
    "test_path = 'C:/Users/HP/Desktop/dry bean/Covid19-dataset/train'"
   ]
  },
  {
   "cell_type": "code",
   "execution_count": 3,
   "id": "a3e69c31",
   "metadata": {},
   "outputs": [],
   "source": [
    "train_datagen = ImageDataGenerator(rescale=1./255)\n",
    "test_datagen = ImageDataGenerator(rescale=1./255)"
   ]
  },
  {
   "cell_type": "code",
   "execution_count": 4,
   "id": "bf84931c",
   "metadata": {},
   "outputs": [
    {
     "name": "stdout",
     "output_type": "stream",
     "text": [
      "Found 66 images belonging to 3 classes.\n",
      "Found 66 images belonging to 3 classes.\n",
      "Found 66 images belonging to 3 classes.\n",
      "Found 251 images belonging to 3 classes.\n",
      "Found 251 images belonging to 3 classes.\n",
      "Found 251 images belonging to 3 classes.\n"
     ]
    }
   ],
   "source": [
    "train_generator = train_datagen.flow_from_directory(\n",
    "    train_path,\n",
    "    target_size=(224, 224),\n",
    "    batch_size=32,\n",
    "    class_mode='categorical')\n",
    "\n",
    "test_generator = test_datagen.flow_from_directory(\n",
    "    test_path,\n",
    "    target_size=(224, 224),\n",
    "    batch_size=32,\n",
    "    class_mode='categorical')"
   ]
  },
  {
   "cell_type": "code",
   "execution_count": 5,
   "id": "c31b0505",
   "metadata": {},
   "outputs": [],
   "source": [
    "model = Sequential()\n",
    "\n",
    "model.add(Conv2D(32, (3, 3), activation='relu', input_shape=(224, 224, 3)))\n",
    "model.add(MaxPooling2D((2, 2)))\n",
    "\n",
    "model.add(Conv2D(64, (3, 3), activation='relu'))\n",
    "model.add(MaxPooling2D((2, 2)))\n",
    "\n",
    "model.add(Conv2D(128, (3, 3), activation='relu'))\n",
    "model.add(MaxPooling2D((2, 2)))\n",
    "\n",
    "model.add(Conv2D(128, (3, 3), activation='relu'))\n",
    "model.add(MaxPooling2D((2, 2)))\n",
    "\n",
    "model.add(Flatten())\n",
    "\n",
    "model.add(Dense(512, activation='relu'))\n",
    "model.add(Dropout(0.5))\n",
    "\n",
    "model.add(Dense(3, activation='softmax'))\n",
    "\n",
    "# Compile the model\n",
    "model.compile(optimizer='adam',\n",
    "              loss='categorical_crossentropy',\n",
    "              metrics=['accuracy'])"
   ]
  },
  {
   "cell_type": "code",
   "execution_count": 6,
   "id": "38553209",
   "metadata": {},
   "outputs": [
    {
     "name": "stdout",
     "output_type": "stream",
     "text": [
      "Epoch 1/10\n",
      "Epoch 1/10\n",
      "Epoch 1/10\n",
      "3/3 [==============================] - 80s 27s/step - loss: 1.2873 - accuracy: 0.3333 - val_loss: 1.4109 - val_accuracy: 0.2789\n",
      "3/3 [==============================] - 80s 27s/step - loss: 1.2873 - accuracy: 0.3333 - val_loss: 1.4109 - val_accuracy: 0.2789\n",
      "3/3 [==============================] - 80s 27s/step - loss: 1.2873 - accuracy: 0.3333 - val_loss: 1.4109 - val_accuracy: 0.2789\n",
      "Epoch 2/10\n",
      "Epoch 2/10\n",
      "Epoch 2/10\n",
      "3/3 [==============================] - 45s 22s/step - loss: 1.1235 - accuracy: 0.3333 - val_loss: 1.0797 - val_accuracy: 0.2908\n",
      "3/3 [==============================] - 45s 22s/step - loss: 1.1235 - accuracy: 0.3333 - val_loss: 1.0797 - val_accuracy: 0.2908\n",
      "3/3 [==============================] - 45s 22s/step - loss: 1.1235 - accuracy: 0.3333 - val_loss: 1.0797 - val_accuracy: 0.2908\n",
      "Epoch 3/10\n",
      "Epoch 3/10\n",
      "Epoch 3/10\n",
      "3/3 [==============================] - 59s 24s/step - loss: 1.0715 - accuracy: 0.3333 - val_loss: 1.0677 - val_accuracy: 0.2789\n",
      "3/3 [==============================] - 59s 24s/step - loss: 1.0715 - accuracy: 0.3333 - val_loss: 1.0677 - val_accuracy: 0.2789\n",
      "3/3 [==============================] - 59s 24s/step - loss: 1.0715 - accuracy: 0.3333 - val_loss: 1.0677 - val_accuracy: 0.2789\n",
      "Epoch 4/10\n",
      "Epoch 4/10\n",
      "Epoch 4/10\n",
      "3/3 [==============================] - 52s 26s/step - loss: 0.9681 - accuracy: 0.5303 - val_loss: 0.9230 - val_accuracy: 0.6733\n",
      "3/3 [==============================] - 52s 26s/step - loss: 0.9681 - accuracy: 0.5303 - val_loss: 0.9230 - val_accuracy: 0.6733\n",
      "3/3 [==============================] - 52s 26s/step - loss: 0.9681 - accuracy: 0.5303 - val_loss: 0.9230 - val_accuracy: 0.6733\n",
      "Epoch 5/10\n",
      "Epoch 5/10\n",
      "Epoch 5/10\n",
      "3/3 [==============================] - 49s 24s/step - loss: 0.7731 - accuracy: 0.7727 - val_loss: 0.6815 - val_accuracy: 0.7410\n",
      "3/3 [==============================] - 49s 24s/step - loss: 0.7731 - accuracy: 0.7727 - val_loss: 0.6815 - val_accuracy: 0.7410\n",
      "3/3 [==============================] - 49s 24s/step - loss: 0.7731 - accuracy: 0.7727 - val_loss: 0.6815 - val_accuracy: 0.7410\n",
      "Epoch 6/10\n",
      "Epoch 6/10\n",
      "Epoch 6/10\n",
      "3/3 [==============================] - 51s 21s/step - loss: 0.5663 - accuracy: 0.7879 - val_loss: 0.5375 - val_accuracy: 0.7450\n",
      "3/3 [==============================] - 51s 21s/step - loss: 0.5663 - accuracy: 0.7879 - val_loss: 0.5375 - val_accuracy: 0.7450\n",
      "3/3 [==============================] - 51s 21s/step - loss: 0.5663 - accuracy: 0.7879 - val_loss: 0.5375 - val_accuracy: 0.7450\n",
      "Epoch 7/10\n",
      "Epoch 7/10\n",
      "Epoch 7/10\n",
      "3/3 [==============================] - 49s 20s/step - loss: 0.3243 - accuracy: 0.8939 - val_loss: 1.0627 - val_accuracy: 0.5777\n",
      "3/3 [==============================] - 49s 20s/step - loss: 0.3243 - accuracy: 0.8939 - val_loss: 1.0627 - val_accuracy: 0.5777\n",
      "3/3 [==============================] - 49s 20s/step - loss: 0.3243 - accuracy: 0.8939 - val_loss: 1.0627 - val_accuracy: 0.5777\n",
      "Epoch 8/10\n",
      "Epoch 8/10\n",
      "Epoch 8/10\n",
      "3/3 [==============================] - 53s 26s/step - loss: 0.4390 - accuracy: 0.7879 - val_loss: 0.5204 - val_accuracy: 0.8367\n",
      "3/3 [==============================] - 53s 26s/step - loss: 0.4390 - accuracy: 0.7879 - val_loss: 0.5204 - val_accuracy: 0.8367\n",
      "3/3 [==============================] - 53s 26s/step - loss: 0.4390 - accuracy: 0.7879 - val_loss: 0.5204 - val_accuracy: 0.8367\n",
      "Epoch 9/10\n",
      "Epoch 9/10\n",
      "Epoch 9/10\n",
      "3/3 [==============================] - 48s 21s/step - loss: 0.4813 - accuracy: 0.8788 - val_loss: 0.5492 - val_accuracy: 0.8048\n",
      "3/3 [==============================] - 48s 21s/step - loss: 0.4813 - accuracy: 0.8788 - val_loss: 0.5492 - val_accuracy: 0.8048\n",
      "3/3 [==============================] - 48s 21s/step - loss: 0.4813 - accuracy: 0.8788 - val_loss: 0.5492 - val_accuracy: 0.8048\n",
      "Epoch 10/10\n",
      "Epoch 10/10\n",
      "Epoch 10/10\n",
      "3/3 [==============================] - 49s 20s/step - loss: 0.3264 - accuracy: 0.8788 - val_loss: 1.1144 - val_accuracy: 0.6255\n",
      "3/3 [==============================] - 49s 20s/step - loss: 0.3264 - accuracy: 0.8788 - val_loss: 1.1144 - val_accuracy: 0.6255\n",
      "3/3 [==============================] - 49s 20s/step - loss: 0.3264 - accuracy: 0.8788 - val_loss: 1.1144 - val_accuracy: 0.6255\n",
      "8/8 [==============================] - 32s 4s/step - loss: 1.1144 - accuracy: 0.6255\n",
      "8/8 [==============================] - 32s 4s/step - loss: 1.1144 - accuracy: 0.6255\n",
      "8/8 [==============================] - 32s 4s/step - loss: 1.1144 - accuracy: 0.6255\n",
      "Test loss: 1.1144473552703857\n",
      "Test accuracy: 0.6254979968070984\n",
      "Test loss: 1.1144473552703857\n",
      "Test accuracy: 0.6254979968070984\n",
      "Test loss: 1.1144473552703857\n",
      "Test accuracy: 0.6254979968070984\n"
     ]
    }
   ],
   "source": [
    "model.fit(train_generator,\n",
    "          epochs=10,\n",
    "          validation_data=test_generator)\n",
    "\n",
    "# Evaluate the performance of the model\n",
    "scores = model.evaluate(test_generator)\n",
    "print('Test loss:', scores[0])\n",
    "print('Test accuracy:', scores[1])"
   ]
  },
  {
   "cell_type": "code",
   "execution_count": 11,
   "id": "30a2a861",
   "metadata": {},
   "outputs": [
    {
     "name": "stdout",
     "output_type": "stream",
     "text": [
      "1/1 [==============================] - 0s 114ms/step\n",
      "1/1 [==============================] - 0s 114ms/step\n",
      "1/1 [==============================] - 0s 114ms/step\n",
      "The X-ray is of a chest with Covid-19\n",
      "The X-ray is of a chest with Covid-19\n",
      "The X-ray is of a chest with Covid-19\n"
     ]
    }
   ],
   "source": [
    "# Use the trained model to predict the class of new images\n",
    "new_image_path = 'C:/Users/HP/Desktop/dry bean/Covid19-dataset/train/Viral Pneumonia/016.jpeg'\n",
    "\n",
    "img = tf.keras.preprocessing.image.load_img(\n",
    "    new_image_path,\n",
    "    target_size=(224, 224)\n",
    ")\n",
    "\n",
    "img_array = tf.keras.preprocessing.image.img_to_array(img)\n",
    "img_array = tf.expand_dims(img_array, 0) / 255.0\n",
    "\n",
    "predictions = model.predict(img_array)\n",
    "\n",
    "if np.argmax(predictions) == 0:\n",
    "    print('The X-ray is of a normal chest')\n",
    "elif np.argmax(predictions) == 1:\n",
    "    print('The X-ray is of a chest with Covid-19')\n",
    "else:\n",
    "    print('The X-ray is of a chest with viral pneumonia')"
   ]
  },
  {
   "cell_type": "code",
   "execution_count": null,
   "id": "be5b9690",
   "metadata": {},
   "outputs": [],
   "source": []
  }
 ],
 "metadata": {
  "kernelspec": {
   "display_name": "Python 3 (ipykernel)",
   "language": "python",
   "name": "python3"
  },
  "language_info": {
   "codemirror_mode": {
    "name": "ipython",
    "version": 3
   },
   "file_extension": ".py",
   "mimetype": "text/x-python",
   "name": "python",
   "nbconvert_exporter": "python",
   "pygments_lexer": "ipython3",
   "version": "3.9.12"
  }
 },
 "nbformat": 4,
 "nbformat_minor": 5
}
